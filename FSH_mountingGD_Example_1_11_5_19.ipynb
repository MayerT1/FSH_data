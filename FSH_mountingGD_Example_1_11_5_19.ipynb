{
  "nbformat": 4,
  "nbformat_minor": 0,
  "metadata": {
    "colab": {
      "name": "FSH-mountingGD_Example_1_11_5_19.ipynb",
      "provenance": [],
      "toc_visible": true,
      "include_colab_link": true
    },
    "kernelspec": {
      "name": "python3",
      "display_name": "Python 3"
    }
  },
  "cells": [
    {
      "cell_type": "markdown",
      "metadata": {
        "id": "view-in-github",
        "colab_type": "text"
      },
      "source": [
        "<a href=\"https://colab.research.google.com/github/MayerT1/FSH_data/blob/master/FSH_mountingGD_Example_1_11_5_19.ipynb\" target=\"_parent\"><img src=\"https://colab.research.google.com/assets/colab-badge.svg\" alt=\"Open In Colab\"/></a>"
      ]
    },
    {
      "cell_type": "markdown",
      "metadata": {
        "id": "YMXRFMmZAawh",
        "colab_type": "text"
      },
      "source": [
        "# Steps of Installation and Running Forest Stand Height (FSH) Python Scripts in your Google Drive permanently"
      ]
    },
    {
      "cell_type": "markdown",
      "metadata": {
        "id": "3Rw8z3tzQNdY",
        "colab_type": "text"
      },
      "source": [
        "## **(1) Mounting your Google Drive**\n",
        "You have to run this script everytime to mount your Google Drive on your runtime using an authorization code\n",
        "\n",
        "<img src=\"http://icons.iconarchive.com/icons/marcus-roberto/google-play/256/Google-Drive-icon.png\">"
      ]
    },
    {
      "cell_type": "code",
      "metadata": {
        "id": "39sbq0stQJBk",
        "colab_type": "code",
        "colab": {}
      },
      "source": [
        "import os, sys\n",
        "from google.colab import drive\n",
        "drive.mount('/content/mnt')\n",
        "nb_path = '/content/notebooks'\n",
        "#create a symbolic link for pointing to /content/mnt/My Drive/Colab Notebooks\n",
        "os.symlink('/content/mnt/My Drive/Colab Notebooks', nb_path)\n",
        "sys.path.insert(0, nb_path) "
      ],
      "execution_count": 0,
      "outputs": []
    },
    {
      "cell_type": "markdown",
      "metadata": {
        "id": "h-7IK5NKQaqw",
        "colab_type": "text"
      },
      "source": [
        "## **(2) Install Required Python Libraries**\n",
        "*   mpmath\n",
        "*   simplekml\n",
        "\n"
      ]
    },
    {
      "cell_type": "code",
      "metadata": {
        "id": "IVC5Ew08R96Z",
        "colab_type": "code",
        "colab": {}
      },
      "source": [
        "!pip install mpmath simplekml"
      ],
      "execution_count": 0,
      "outputs": []
    },
    {
      "cell_type": "markdown",
      "metadata": {
        "id": "bw5gLQFXSh1e",
        "colab_type": "text"
      },
      "source": [
        "## **(3) Install unzip tool**\n",
        "\n"
      ]
    },
    {
      "cell_type": "code",
      "metadata": {
        "id": "61JIw038ShRJ",
        "colab_type": "code",
        "colab": {}
      },
      "source": [
        "!apt-get install unzip"
      ],
      "execution_count": 0,
      "outputs": []
    },
    {
      "cell_type": "markdown",
      "metadata": {
        "id": "qtG2UtbeTg8t",
        "colab_type": "text"
      },
      "source": [
        "## **(4) Create FSH folder in Google Drive on notebooks folder**\n"
      ]
    },
    {
      "cell_type": "code",
      "metadata": {
        "id": "iFBqgnLwUED1",
        "colab_type": "code",
        "colab": {}
      },
      "source": [
        "%cd /content/notebooks/\n",
        "!mkdir FSH"
      ],
      "execution_count": 0,
      "outputs": []
    },
    {
      "cell_type": "markdown",
      "metadata": {
        "id": "wzeBJLvhUq2a",
        "colab_type": "text"
      },
      "source": [
        "## **(5) Download FSH Python scripts and Example data to your Google Drive**\n",
        "\n",
        "\n",
        "<img src=\"data:image/png;base64,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\">"
      ]
    },
    {
      "cell_type": "markdown",
      "metadata": {
        "id": "q0D7S82G2Pnk",
        "colab_type": "text"
      },
      "source": [
        "***Work on FSH folder***"
      ]
    },
    {
      "cell_type": "code",
      "metadata": {
        "id": "szoDEQxc2XvL",
        "colab_type": "code",
        "colab": {}
      },
      "source": [
        "%cd /content/notebooks/FSH"
      ],
      "execution_count": 0,
      "outputs": []
    },
    {
      "cell_type": "code",
      "metadata": {
        "id": "tRpW9xRjUqoP",
        "colab_type": "code",
        "colab": {}
      },
      "source": [
        "!git clone https://github.com/MayerT1/FSH_Python3.git\n",
        "!git clone https://github.com/MayerT1/FSH_data.git"
      ],
      "execution_count": 0,
      "outputs": []
    },
    {
      "cell_type": "markdown",
      "metadata": {
        "id": "wRF5ZZ8eWgJ7",
        "colab_type": "text"
      },
      "source": [
        " ***Work on FSH_data folder***"
      ]
    },
    {
      "cell_type": "code",
      "metadata": {
        "id": "XAp29OJZWnwp",
        "colab_type": "code",
        "colab": {}
      },
      "source": [
        "%cd FSH_data/"
      ],
      "execution_count": 0,
      "outputs": []
    },
    {
      "cell_type": "markdown",
      "metadata": {
        "id": "RLSye8IzW5TI",
        "colab_type": "text"
      },
      "source": [
        "***Remove all zip files*** "
      ]
    },
    {
      "cell_type": "code",
      "metadata": {
        "id": "4eMSkXKRXA-a",
        "colab_type": "code",
        "colab": {}
      },
      "source": [
        "!rm -f f890_o118.zip\n",
        "!rm -f f890_o119.zip\n",
        "!rm -f f890_o120.zip"
      ],
      "execution_count": 0,
      "outputs": []
    },
    {
      "cell_type": "markdown",
      "metadata": {
        "id": "C7_3cb8eXa4e",
        "colab_type": "text"
      },
      "source": [
        "***Download example data zip files using wget***"
      ]
    },
    {
      "cell_type": "code",
      "metadata": {
        "id": "1thn2J5uXXoV",
        "colab_type": "code",
        "colab": {}
      },
      "source": [
        "!wget https://github.com/MayerT1/FSH_data/raw/master/f890_o118.zip\n",
        "!wget https://github.com/MayerT1/FSH_data/raw/master/f890_o119.zip\n",
        "!wget https://github.com/MayerT1/FSH_data/raw/master/f890_o120.zip"
      ],
      "execution_count": 0,
      "outputs": []
    },
    {
      "cell_type": "markdown",
      "metadata": {
        "id": "TsvnSwy7Xszl",
        "colab_type": "text"
      },
      "source": [
        "***Unzip .zip files***"
      ]
    },
    {
      "cell_type": "code",
      "metadata": {
        "id": "SHlJmGduX3EB",
        "colab_type": "code",
        "colab": {}
      },
      "source": [
        "!unzip f890_o118.zip\n",
        "!unzip f890_o119.zip\n",
        "!unzip f890_o120.zip"
      ],
      "execution_count": 0,
      "outputs": []
    },
    {
      "cell_type": "markdown",
      "metadata": {
        "id": "bGegXc3YX9mV",
        "colab_type": "text"
      },
      "source": [
        "## **(6) Run the Forest Stand Height**  \n",
        "\n",
        "<img src=\"https://i.pinimg.com/originals/67/19/0b/67190b2076ccdf40951b613878e6bdf8.png\">\n",
        "\n",
        "\n",
        "*   auto_tree_height_many() - extracts data from ROI_PAC/ISCE output files and formats them for use in the rest of the scripts (15 secs)\n",
        "*   intermediate() - calculates the overlap between each pair of images (12 mins 17 secs)\n",
        "*   auto_mosaicking_new() - runs iterations of mosaicking (~34 secs per iteration, or 2 mins 49 secs total)\n",
        "*   write_deltaSC() - calculates the temporal change parameters based on the final iteration (less than a second)\n",
        "*   write_mapfile_new() - calculates and writes the tree height map to a file (7 mins 55 secs)\n",
        "*   Use of --flag_diff calls write_diff_height_map() to produce the forest differential height map between the radar and overlapping lidar images (1 sec).\n",
        "*   Use of --flag_error calls cal_error_metric() to produce the error metric file\n",
        "*   List item that can be used for plotting figures (5 secs)"
      ]
    },
    {
      "cell_type": "code",
      "metadata": {
        "id": "_FN4R6xawzfP",
        "colab_type": "code",
        "colab": {}
      },
      "source": [
        "!python /content/notebooks/FSH/FSH_Python3/forest_stand_height.py 3 2 2 5 \"linkfile.txt\" \"flagfile.txt\" \"Howland_LVIS_NaN.tif\" \"Maine_NLCD2011_nonwildland.tif\" /content/notebooks/FSH/FSH_data/ \"gif json kml mat tif\" --flag_diff=1 --flag_error=1  --flag_proc=1"
      ],
      "execution_count": 0,
      "outputs": []
    },
    {
      "cell_type": "markdown",
      "metadata": {
        "id": "kd49PL4VynCA",
        "colab_type": "text"
      },
      "source": [
        "## **(7) Create the mosaic of the generated forest height maps for all of the scenes**"
      ]
    },
    {
      "cell_type": "code",
      "metadata": {
        "id": "0PqPYZx0ylrP",
        "colab_type": "code",
        "colab": {}
      },
      "source": [
        "!python /content/notebooks/FSH/FSH_Python3/create_mosaic.py \"/content/notebooks/FSH/FSH_data/\" \"3sc_mosaic.tif\" \"/content/notebooks/FSH/FSH_data/f890_o118/890_118_20070808_HV_20070923_HV_fsh.tif /content/notebooks/FSH/FSH_data/f890_o119/890_119_20070710_HV_20071010_HV_fsh.tif /content/notebooks/FSH/FSH_data/f890_o120/890_120_20070727_HV_20070911_HV_fsh.tif\""
      ],
      "execution_count": 0,
      "outputs": []
    },
    {
      "cell_type": "markdown",
      "metadata": {
        "id": "nyV1Q4eExjXR",
        "colab_type": "text"
      },
      "source": [
        "## **(8) Open the forest stand height output \"/content/notebooks/FSH/FSH_data3sc_mosaic.tif\"**\n",
        "**in QGIS or others GIS software**\n",
        "![](https://drive.google.com/uc?export=view&id=17b7-oSMPN8U353i0Gj4INP-3rGrs_jQN)\n",
        "\n",
        "<img src=\"https://sa1-api.asm.skype.com/v1/objects/0-sa-d5-c8259b57346cde25735281e0418e25b0/views/imgpsh_fullsize_anim\">\n"
      ]
    }
  ]
}