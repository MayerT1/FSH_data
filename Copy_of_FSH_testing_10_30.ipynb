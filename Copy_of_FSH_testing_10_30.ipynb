{
  "nbformat": 4,
  "nbformat_minor": 0,
  "metadata": {
    "colab": {
      "name": "Copy of FSH-testing_10_30.ipynb",
      "provenance": [],
      "include_colab_link": true
    },
    "kernelspec": {
      "name": "python3",
      "display_name": "Python 3"
    }
  },
  "cells": [
    {
      "cell_type": "markdown",
      "metadata": {
        "id": "view-in-github",
        "colab_type": "text"
      },
      "source": [
        "<a href=\"https://colab.research.google.com/github/MayerT1/FSH_data/blob/master/Copy_of_FSH_testing_10_30.ipynb\" target=\"_parent\"><img src=\"https://colab.research.google.com/assets/colab-badge.svg\" alt=\"Open In Colab\"/></a>"
      ]
    },
    {
      "cell_type": "code",
      "metadata": {
        "id": "L02GJrqgf1oM",
        "colab_type": "code",
        "colab": {}
      },
      "source": [
        "#INSTALL REQUIRED PYTHON LIBRARIES\n",
        "!pip3 install mpmath simplekml"
      ],
      "execution_count": 0,
      "outputs": []
    },
    {
      "cell_type": "code",
      "metadata": {
        "id": "94GCJh2lgeLi",
        "colab_type": "code",
        "colab": {}
      },
      "source": [
        "!apt-get install unzip"
      ],
      "execution_count": 0,
      "outputs": []
    },
    {
      "cell_type": "code",
      "metadata": {
        "id": "NuwMIvInfJCx",
        "colab_type": "code",
        "colab": {}
      },
      "source": [
        "%cd /content/"
      ],
      "execution_count": 0,
      "outputs": []
    },
    {
      "cell_type": "code",
      "metadata": {
        "id": "8LoG23qGMJvq",
        "colab_type": "code",
        "colab": {}
      },
      "source": [
        "#CREATE FSH FOLDER\n",
        "!mkdir FSH"
      ],
      "execution_count": 0,
      "outputs": []
    },
    {
      "cell_type": "code",
      "metadata": {
        "id": "LGQ8c6infWBY",
        "colab_type": "code",
        "colab": {}
      },
      "source": [
        "%cd FSH/"
      ],
      "execution_count": 0,
      "outputs": []
    },
    {
      "cell_type": "code",
      "metadata": {
        "id": "AgsCW2yxezQe",
        "colab_type": "code",
        "colab": {}
      },
      "source": [
        "# DOWNLOAD FSH PYTHON SCRIPT & EXAMPLE DATA (file directory: /content/FSH/)\n",
        "!git clone https://github.com/MayerT1/FSH_Python3.git\n",
        "!git clone https://github.com/MayerT1/FSH_data.git"
      ],
      "execution_count": 0,
      "outputs": []
    },
    {
      "cell_type": "code",
      "metadata": {
        "id": "LccIlgw6RpxH",
        "colab_type": "code",
        "colab": {}
      },
      "source": [
        "#WORK ON FSH_data FOLDER\n",
        "%cd FSH_data"
      ],
      "execution_count": 0,
      "outputs": []
    },
    {
      "cell_type": "code",
      "metadata": {
        "id": "vyZ3zyRq2yHK",
        "colab_type": "code",
        "colab": {}
      },
      "source": [
        "#REMOVE ALL ZIP FILES **cannot unzip the files that pulled from git repository. I dont know why\n",
        "!rm -f f890_o118.zip\n",
        "!rm -f f890_o119.zip\n",
        "!rm -f f890_o120.zip"
      ],
      "execution_count": 0,
      "outputs": []
    },
    {
      "cell_type": "code",
      "metadata": {
        "id": "rQDL0mU-2_YN",
        "colab_type": "code",
        "colab": {}
      },
      "source": [
        "#DOWNLOAD DATA ZIP FILES USING WGET  (file directory: /content/FSH/FSH_data)\n",
        "!wget https://github.com/MayerT1/FSH_data/raw/master/f890_o118.zip\n",
        "!wget https://github.com/MayerT1/FSH_data/raw/master/f890_o119.zip\n",
        "!wget https://github.com/MayerT1/FSH_data/raw/master/f890_o120.zip"
      ],
      "execution_count": 0,
      "outputs": []
    },
    {
      "cell_type": "code",
      "metadata": {
        "id": "o7-g2XeHgkDK",
        "colab_type": "code",
        "colab": {}
      },
      "source": [
        "#UNZIP \n",
        "!unzip f890_o118.zip\n",
        "!unzip f890_o119.zip\n",
        "!unzip f890_o120.zip"
      ],
      "execution_count": 0,
      "outputs": []
    },
    {
      "cell_type": "code",
      "metadata": {
        "id": "u3lSbXM_4SIZ",
        "colab_type": "code",
        "colab": {}
      },
      "source": [
        "#Run the Forest Stand Height\n",
        "!python /content/FSH/FSH_Python3/forest_stand_height.py 3 2 2 5 \"linkfile.txt\" \"flagfile.txt\" \"Howland_LVIS_NaN.tif\" \"Maine_NLCD2011_nonwildland.tif\" /content/FSH/FSH_data/ \"gif json kml mat tif\" --flag_diff=1 --flag_error=1  --flag_proc=1"
      ],
      "execution_count": 0,
      "outputs": []
    },
    {
      "cell_type": "code",
      "metadata": {
        "id": "Bft3yUsC-9Wy",
        "colab_type": "code",
        "colab": {}
      },
      "source": [
        "#Create the mosaic of the generated forest height maps for all of the scenes\n",
        "!python /content/FSH/FSH_Python3/create_mosaic.py \"/content/FSH/FSH_data/\" \"3sc_mosaic.tif\" \"/content/FSH/FSH_data/f890_o118/890_118_20070808_HV_20070923_HV_fsh.tif /content/FSH/FSH_data/f890_o119/890_119_20070710_HV_20071010_HV_fsh.tif /content/FSH/FSH_data/f890_o120/890_120_20070727_HV_20070911_HV_fsh.tif\""
      ],
      "execution_count": 0,
      "outputs": []
    }
  ]
}